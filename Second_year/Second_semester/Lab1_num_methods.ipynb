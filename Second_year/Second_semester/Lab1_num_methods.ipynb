{
  "nbformat": 4,
  "nbformat_minor": 0,
  "metadata": {
    "colab": {
      "provenance": []
    },
    "kernelspec": {
      "name": "python3",
      "display_name": "Python 3"
    },
    "language_info": {
      "name": "python"
    }
  },
  "cells": [
    {
      "cell_type": "markdown",
      "source": [
        "Лабораторная работа №1. Питон для математиков. Вариант №3. Балагур Дмитрий 6204 первая группа."
      ],
      "metadata": {
        "id": "P6H0SGkY7Oog"
      }
    },
    {
      "cell_type": "code",
      "execution_count": null,
      "metadata": {
        "id": "q3I8HJcq0Mk1"
      },
      "outputs": [],
      "source": [
        "import math\n",
        "import numpy as np\n",
        "import scipy as sp\n",
        "import sympy as sm\n",
        "import matplotlib.pyplot as plt\n",
        "from scipy import integrate\n",
        "from sympy import symbols\n",
        "from sympy import Symbol\n",
        "from sympy import diff\n",
        "\n"
      ]
    },
    {
      "cell_type": "markdown",
      "source": [
        "Задание №1\n",
        "\n",
        "Используя специальные функции библиотеки NumPy, создать матрицу 5x5 из единиц и создать единичную матрицу 20х20."
      ],
      "metadata": {
        "id": "98XMp5r87273"
      }
    },
    {
      "cell_type": "code",
      "source": [
        "A = np.random.randint(1,2,(5, 5))\n",
        "print(\"\\n\",A,)\n",
        "\n",
        "B = np.identity(20, dtype=float)\n",
        "print(\"\\n\",B,\"\\n\")"
      ],
      "metadata": {
        "colab": {
          "base_uri": "https://localhost:8080/"
        },
        "id": "8NsSAuJ777Zj",
        "outputId": "e6d1799d-b2be-4a42-ab77-cf2078b4062c"
      },
      "execution_count": null,
      "outputs": [
        {
          "output_type": "stream",
          "name": "stdout",
          "text": [
            "\n",
            " [[1 1 1 1 1]\n",
            " [1 1 1 1 1]\n",
            " [1 1 1 1 1]\n",
            " [1 1 1 1 1]\n",
            " [1 1 1 1 1]]\n",
            "\n",
            " [[1. 0. 0. 0. 0. 0. 0. 0. 0. 0. 0. 0. 0. 0. 0. 0. 0. 0. 0. 0.]\n",
            " [0. 1. 0. 0. 0. 0. 0. 0. 0. 0. 0. 0. 0. 0. 0. 0. 0. 0. 0. 0.]\n",
            " [0. 0. 1. 0. 0. 0. 0. 0. 0. 0. 0. 0. 0. 0. 0. 0. 0. 0. 0. 0.]\n",
            " [0. 0. 0. 1. 0. 0. 0. 0. 0. 0. 0. 0. 0. 0. 0. 0. 0. 0. 0. 0.]\n",
            " [0. 0. 0. 0. 1. 0. 0. 0. 0. 0. 0. 0. 0. 0. 0. 0. 0. 0. 0. 0.]\n",
            " [0. 0. 0. 0. 0. 1. 0. 0. 0. 0. 0. 0. 0. 0. 0. 0. 0. 0. 0. 0.]\n",
            " [0. 0. 0. 0. 0. 0. 1. 0. 0. 0. 0. 0. 0. 0. 0. 0. 0. 0. 0. 0.]\n",
            " [0. 0. 0. 0. 0. 0. 0. 1. 0. 0. 0. 0. 0. 0. 0. 0. 0. 0. 0. 0.]\n",
            " [0. 0. 0. 0. 0. 0. 0. 0. 1. 0. 0. 0. 0. 0. 0. 0. 0. 0. 0. 0.]\n",
            " [0. 0. 0. 0. 0. 0. 0. 0. 0. 1. 0. 0. 0. 0. 0. 0. 0. 0. 0. 0.]\n",
            " [0. 0. 0. 0. 0. 0. 0. 0. 0. 0. 1. 0. 0. 0. 0. 0. 0. 0. 0. 0.]\n",
            " [0. 0. 0. 0. 0. 0. 0. 0. 0. 0. 0. 1. 0. 0. 0. 0. 0. 0. 0. 0.]\n",
            " [0. 0. 0. 0. 0. 0. 0. 0. 0. 0. 0. 0. 1. 0. 0. 0. 0. 0. 0. 0.]\n",
            " [0. 0. 0. 0. 0. 0. 0. 0. 0. 0. 0. 0. 0. 1. 0. 0. 0. 0. 0. 0.]\n",
            " [0. 0. 0. 0. 0. 0. 0. 0. 0. 0. 0. 0. 0. 0. 1. 0. 0. 0. 0. 0.]\n",
            " [0. 0. 0. 0. 0. 0. 0. 0. 0. 0. 0. 0. 0. 0. 0. 1. 0. 0. 0. 0.]\n",
            " [0. 0. 0. 0. 0. 0. 0. 0. 0. 0. 0. 0. 0. 0. 0. 0. 1. 0. 0. 0.]\n",
            " [0. 0. 0. 0. 0. 0. 0. 0. 0. 0. 0. 0. 0. 0. 0. 0. 0. 1. 0. 0.]\n",
            " [0. 0. 0. 0. 0. 0. 0. 0. 0. 0. 0. 0. 0. 0. 0. 0. 0. 0. 1. 0.]\n",
            " [0. 0. 0. 0. 0. 0. 0. 0. 0. 0. 0. 0. 0. 0. 0. 0. 0. 0. 0. 1.]] \n",
            "\n"
          ]
        }
      ]
    },
    {
      "cell_type": "markdown",
      "source": [
        "Задание №2\n",
        "\n",
        "Используя библиотеку NumPy, вычислить определитель."
      ],
      "metadata": {
        "id": "LShl5K818AqG"
      }
    },
    {
      "cell_type": "code",
      "source": [
        "C = np.array([[3,-1,2,3,2], [1,2,-3,3,4],[2,-3,4,2,1], [3,0,0,5,0],[2,0,0,4,0]], float)\n",
        "print(\"\\n\", C)\n",
        "C = np.linalg.det(C)\n",
        "print(\"\\n\",\"det =\", C)"
      ],
      "metadata": {
        "colab": {
          "base_uri": "https://localhost:8080/"
        },
        "id": "tCbtJqkA8E_o",
        "outputId": "f6a6281d-786a-459a-9d9f-04eacaa7b557"
      },
      "execution_count": null,
      "outputs": [
        {
          "output_type": "stream",
          "name": "stdout",
          "text": [
            "\n",
            " [[ 3. -1.  2.  3.  2.]\n",
            " [ 1.  2. -3.  3.  4.]\n",
            " [ 2. -3.  4.  2.  1.]\n",
            " [ 3.  0.  0.  5.  0.]\n",
            " [ 2.  0.  0.  4.  0.]]\n",
            "\n",
            " det = -22.000000000000036\n"
          ]
        }
      ]
    },
    {
      "cell_type": "markdown",
      "source": [
        "Задание №3\n",
        "\n",
        "Используя библиотеку SymPy, упростите выражение и найдите его значение при\n",
        "x =-2.01, y =sqrt(5) .\n"
      ],
      "metadata": {
        "id": "eX-6uOzN8t18"
      }
    },
    {
      "cell_type": "code",
      "source": [
        "x, y = sm.symbols(\"x, y\")\n",
        "sm.expression = ((2/x**2)+(3/y**2))*(x+3*y)\n",
        "print(sm.expression.subs(x,-2.01).subs(y,math.sqrt(5)))\n"
      ],
      "metadata": {
        "colab": {
          "base_uri": "https://localhost:8080/"
        },
        "id": "ci0ftWOD9ixL",
        "outputId": "4305826e-8152-4adc-ef2c-f2e5762095bc"
      },
      "execution_count": null,
      "outputs": [
        {
          "output_type": "stream",
          "name": "stdout",
          "text": [
            "5.14470832148045\n"
          ]
        }
      ]
    },
    {
      "cell_type": "markdown",
      "source": [
        "Задание №4\n",
        "\n",
        "Используя библиотеку SymPy, найдите частные производные от выражения из задания выше.\n"
      ],
      "metadata": {
        "id": "sADhmWvyGaw7"
      }
    },
    {
      "cell_type": "code",
      "source": [
        "diff(sm.expression, x)"
      ],
      "metadata": {
        "colab": {
          "base_uri": "https://localhost:8080/",
          "height": 56
        },
        "id": "t6AdN3X4GldN",
        "outputId": "86f2558c-e18d-4e55-f2df-07c0593e4f8c"
      },
      "execution_count": null,
      "outputs": [
        {
          "output_type": "execute_result",
          "data": {
            "text/plain": [
              "3/y**2 + 2/x**2 - 4*(x + 3*y)/x**3"
            ],
            "text/latex": "$\\displaystyle \\frac{3}{y^{2}} + \\frac{2}{x^{2}} - \\frac{4 \\left(x + 3 y\\right)}{x^{3}}$"
          },
          "metadata": {},
          "execution_count": 95
        }
      ]
    },
    {
      "cell_type": "code",
      "source": [
        "diff(sm.expression, y)"
      ],
      "metadata": {
        "colab": {
          "base_uri": "https://localhost:8080/",
          "height": 56
        },
        "id": "2MtUkqboZcTA",
        "outputId": "96868e3a-9323-40c5-ecef-bcc3ca1af02f"
      },
      "execution_count": null,
      "outputs": [
        {
          "output_type": "execute_result",
          "data": {
            "text/plain": [
              "9/y**2 - 6*(x + 3*y)/y**3 + 6/x**2"
            ],
            "text/latex": "$\\displaystyle \\frac{9}{y^{2}} - \\frac{6 \\left(x + 3 y\\right)}{y^{3}} + \\frac{6}{x^{2}}$"
          },
          "metadata": {},
          "execution_count": 94
        }
      ]
    },
    {
      "cell_type": "markdown",
      "source": [
        "Задание №5\n",
        "\n",
        "Используя библиотеку NumPy, создать случайную матрицу\n",
        "A из целых чисел из отрезка [0,5] размера 4x4. Создать векторстолбец B подходящего размера. Решить систему AX = B."
      ],
      "metadata": {
        "id": "bbfw7MiOIh1m"
      }
    },
    {
      "cell_type": "code",
      "source": [
        "A = np.random.randint(0,6,(4, 4))\n",
        "print(\"\\n\",A)\n",
        "\n",
        "V = np.random.randint(0,6,(4, 1))\n",
        "print(\"\\n\",V)\n",
        "\n",
        "print(\"\\n\", np.dot(A, V))\n",
        "\n"
      ],
      "metadata": {
        "colab": {
          "base_uri": "https://localhost:8080/"
        },
        "id": "pnO_OGPgImjG",
        "outputId": "db1445a9-e375-4819-b673-c0b3469e9aaf"
      },
      "execution_count": null,
      "outputs": [
        {
          "output_type": "stream",
          "name": "stdout",
          "text": [
            "\n",
            " [[0 1 0 4]\n",
            " [0 0 3 3]\n",
            " [0 4 4 1]\n",
            " [5 5 2 1]]\n",
            "\n",
            " [[3]\n",
            " [3]\n",
            " [5]\n",
            " [2]]\n",
            "\n",
            " [[11]\n",
            " [21]\n",
            " [34]\n",
            " [42]]\n"
          ]
        }
      ]
    },
    {
      "cell_type": "markdown",
      "source": [
        "Задание №6\n",
        "\n",
        "Вычислить интеграл используя библиотеку SciPy"
      ],
      "metadata": {
        "id": "WHlCBRelKxNg"
      }
    },
    {
      "cell_type": "code",
      "source": [
        "x = Symbol(\"x\")\n",
        "integrate.quad(lambda x:(math.cosh(3*x)**2), 0, 1/3)"
      ],
      "metadata": {
        "colab": {
          "base_uri": "https://localhost:8080/"
        },
        "id": "a74HTpCOLTpN",
        "outputId": "d119062d-2c7c-44f1-f4aa-5e08ef919f76"
      },
      "execution_count": null,
      "outputs": [
        {
          "output_type": "execute_result",
          "data": {
            "text/plain": [
              "(0.4689050339872516, 5.205891650952883e-15)"
            ]
          },
          "metadata": {},
          "execution_count": 72
        }
      ]
    },
    {
      "cell_type": "markdown",
      "source": [
        "Задание №7\n",
        "\n",
        "Вычислить интеграл используя библиотеку SymPy"
      ],
      "metadata": {
        "id": "6FY-tOMmN7Vv"
      }
    },
    {
      "cell_type": "code",
      "source": [
        "x, y, z = sm.symbols(\"x, y, z\")\n",
        "expression = (x+y+z)\n",
        "print(sm.integrate(sm.integrate(sm.integrate(expression, (z, 0, 1-x-y)), (y, 0, 1-x)), (x, 0, 1)))\n"
      ],
      "metadata": {
        "colab": {
          "base_uri": "https://localhost:8080/"
        },
        "id": "QLUCMHudOR_l",
        "outputId": "25443427-9558-4b7c-e2db-80e3cd7a6185"
      },
      "execution_count": null,
      "outputs": [
        {
          "output_type": "stream",
          "name": "stdout",
          "text": [
            "1/8\n"
          ]
        }
      ]
    },
    {
      "cell_type": "markdown",
      "source": [
        "Задание №8\n",
        "\n",
        "Построить в одной системе координат графики функций. Оси координат должны быть подписаны, графики должны быть разного цвета, должна быть выведена легенда.\n",
        "Точку пересечения (если она есть) выделить на графике оранжевым цветом."
      ],
      "metadata": {
        "id": "78JFfCkbUD8F"
      }
    },
    {
      "cell_type": "code",
      "source": [
        "# Создание объектов артборда и холста\n",
        "\n",
        "plt.figure(figsize=(8, 5), dpi=80)\n",
        "ax = plt.subplot(111)\n",
        "\n",
        "# Мы решили удалить правую и верхнюю прямоугольные границы\n",
        "ax.spines['right'].set_color('none')\n",
        "ax.spines['top'].set_color('none')\n",
        "\n",
        "\n",
        "# Установить направление данных на координатной оси\n",
        "# 0 согласуется с нашей общей декартовой системой координат, 1 - противоположность\n",
        "ax.xaxis.set_ticks_position('bottom')\n",
        "ax.spines['bottom'].set_position(('data', 0))\n",
        "ax.yaxis.set_ticks_position('left')\n",
        "ax.spines['left'].set_position(('data', 0))\n",
        "\n",
        "\n",
        "# Подготовить данные, использовать распаковку последовательности\n",
        "\n",
        "X = np.linspace(-2*np.pi, 2*np.pi, 256, endpoint=True)\n",
        "C, L = 2*np.cos(X-np.pi/4), X+3\n",
        "\n",
        "plt.plot(X, C, color=\"blue\", linewidth=2.5, linestyle=\"-\", label=\"Cos Function\")\n",
        "plt.plot(X, L, color=\"red\", linewidth=2.5, linestyle=\"-\", label=\"Lin Function\")\n"
      ],
      "metadata": {
        "colab": {
          "base_uri": "https://localhost:8080/",
          "height": 358
        },
        "id": "dGP_88CqUSOX",
        "outputId": "9a3211cc-d94c-4540-b128-3c48d2945725"
      },
      "execution_count": null,
      "outputs": [
        {
          "output_type": "execute_result",
          "data": {
            "text/plain": [
              "[<matplotlib.lines.Line2D at 0x7a5506bcd8a0>]"
            ]
          },
          "metadata": {},
          "execution_count": 93
        },
        {
          "output_type": "display_data",
          "data": {
            "text/plain": [
              "<Figure size 640x400 with 1 Axes>"
            ],
            "image/png": "[encoded data removed]"
          },
          "metadata": {}
        }
      ]
    }
  ]
}