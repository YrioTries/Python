{
  "nbformat": 4,
  "nbformat_minor": 0,
  "metadata": {
    "colab": {
      "provenance": []
    },
    "kernelspec": {
      "name": "python3",
      "display_name": "Python 3"
    },
    "language_info": {
      "name": "python"
    }
  },
  "cells": [
    {
      "cell_type": "markdown",
      "source": [
        "##Лабораторная работа №4\n",
        "«Численное интегрирование» и «Численные методы решения\n",
        "обыкновенных дифференциальных уравнений». Балагур Дмитрий 6204 вторая группа."
      ],
      "metadata": {
        "id": "NP9R1LeUpV70"
      }
    },
    {
      "cell_type": "code",
      "source": [
        "import math\n",
        "import sympy as sm\n",
        "import numpy as np\n",
        "from prettytable import PrettyTable\n",
        "from scipy.integrate import odeint\n",
        "import matplotlib.pyplot as plt"
      ],
      "metadata": {
        "id": "pEykuj4dp5KX"
      },
      "execution_count": null,
      "outputs": []
    },
    {
      "cell_type": "markdown",
      "source": [
        "$$f(x) = x*arctg(x)$$\n",
        "$$a = 0$$\n",
        "$$b = 1$$"
      ],
      "metadata": {
        "id": "z8aKKNFSp8eG"
      }
    },
    {
      "cell_type": "markdown",
      "source": [
        "$$M = max(f''(x)), x\\in [a,b]$$\n",
        "$$f'(x) = arctgx + \\frac{x}{(1+x^2)}$$\n",
        "$$f''(x) = \\frac{2}{(1+x^2)^2}$$\n",
        "\n",
        "\n"
      ],
      "metadata": {
        "id": "Avv9dalL6KWt"
      }
    },
    {
      "cell_type": "markdown",
      "source": [
        "Функция симметрична относительно Оу, максимальное значение при х = 0\n",
        "\n",
        "$$M = f''(0) = 2$$"
      ],
      "metadata": {
        "id": "UbRqwuT-8Ybf"
      }
    },
    {
      "cell_type": "markdown",
      "source": [
        "Находим шаг h\n",
        "\n",
        "$$\\frac{M \\cdot |b-a| \\cdot h^2}{12} < \\epsilon$$\n",
        "\n",
        "$$\\frac{2 \\cdot |1-0| \\cdot h^2}{12} < 0.001$$\n",
        "\n",
        "$$h  \\approx 0.077$$\n",
        "$$n = \\frac{b-a}{h} = \\frac{1}{0,077}=12,98$$\n",
        "Округляем до 16, h = 1/16 = 0,0625"
      ],
      "metadata": {
        "id": "IkR9WIw16PO2"
      }
    },
    {
      "cell_type": "markdown",
      "source": [
        "##Формула трапеций\n",
        "\n",
        "\n",
        ">\n",
        "\n"
      ],
      "metadata": {
        "id": "qhV5DfgVrgEN"
      }
    },
    {
      "cell_type": "markdown",
      "source": [
        "*h* = 0,0625\n"
      ],
      "metadata": {
        "id": "jEMkZAK5sGum"
      }
    },
    {
      "cell_type": "code",
      "source": [
        "ft = 0\n",
        "for x in range(0,17):\n",
        "  if x==0 or x==16:\n",
        "    ft+=(x*0.0625*math.atan(x*0.0625)/2)\n",
        "    continue\n",
        "  ft+=(x*0.0625*math.atan(x*0.0625))\n",
        "ft*=0.0625\n",
        "ft"
      ],
      "metadata": {
        "colab": {
          "base_uri": "https://localhost:8080/"
        },
        "id": "oWD8HcoCrV15",
        "outputId": "7ff7033b-8085-4bc8-a73b-eac9d7af2c0f"
      },
      "execution_count": null,
      "outputs": [
        {
          "output_type": "execute_result",
          "data": {
            "text/plain": [
              "0.28581660846560053"
            ]
          },
          "metadata": {},
          "execution_count": 2
        }
      ]
    },
    {
      "cell_type": "markdown",
      "source": [
        "2h = 0,125"
      ],
      "metadata": {
        "id": "9QMFMm1frIWY"
      }
    },
    {
      "cell_type": "code",
      "source": [
        "ft2 = 0\n",
        "for x in range(0,9):\n",
        "  if x==0 or x==8:\n",
        "    ft2+=(x*0.125*math.atan(x*0.125)/2)\n",
        "    continue\n",
        "  ft2+=(x*0.125*math.atan(x*0.125))\n",
        "ft2*=0.125\n",
        "ft2"
      ],
      "metadata": {
        "colab": {
          "base_uri": "https://localhost:8080/"
        },
        "id": "p_aV93pOswVJ",
        "outputId": "c807eea4-eb50-4f99-9c4d-466682177b4a"
      },
      "execution_count": null,
      "outputs": [
        {
          "output_type": "execute_result",
          "data": {
            "text/plain": [
              "0.28707219762553304"
            ]
          },
          "metadata": {},
          "execution_count": 3
        }
      ]
    },
    {
      "cell_type": "markdown",
      "source": [
        "Погрешность"
      ],
      "metadata": {
        "id": "R1OCbaiFtpil"
      }
    },
    {
      "cell_type": "code",
      "source": [
        "1/3*abs(ft-ft2)"
      ],
      "metadata": {
        "colab": {
          "base_uri": "https://localhost:8080/"
        },
        "id": "HEADylPRtujk",
        "outputId": "0d8a1f6b-6b08-4e00-9efa-410ed78c091b"
      },
      "execution_count": null,
      "outputs": [
        {
          "output_type": "execute_result",
          "data": {
            "text/plain": [
              "0.0004185297199775043"
            ]
          },
          "metadata": {},
          "execution_count": 4
        }
      ]
    },
    {
      "cell_type": "markdown",
      "source": [
        "## Формула *Симпсона*"
      ],
      "metadata": {
        "id": "WPg4qSg-uAwR"
      }
    },
    {
      "cell_type": "code",
      "source": [
        "fs=0\n",
        "for x in range(0,17):\n",
        "  if x==0 or x==16:\n",
        "    fs+=(x*0.0625*math.atan(x*0.0625))\n",
        "  elif x%2==0:\n",
        "    fs+=(2*(x*0.0625*math.atan(x*0.0625)))\n",
        "  else:\n",
        "    fs+=(4*(x*0.0625*math.atan(x*0.0625)))\n",
        "fs*=(0.0625/3)\n",
        "fs"
      ],
      "metadata": {
        "colab": {
          "base_uri": "https://localhost:8080/"
        },
        "id": "IICsckQXulx0",
        "outputId": "918c013f-4590-4685-be90-f672f311fa90"
      },
      "execution_count": null,
      "outputs": [
        {
          "output_type": "execute_result",
          "data": {
            "text/plain": [
              "0.28539807874562295"
            ]
          },
          "metadata": {},
          "execution_count": 5
        }
      ]
    },
    {
      "cell_type": "code",
      "source": [
        "fs2=0\n",
        "for x in range(0,9):\n",
        "  if x==0 or x==8:\n",
        "    fs2+=(x*0.125*math.atan(x*0.125))\n",
        "  elif x%2==0:\n",
        "    fs2+=(2*x*0.125*math.atan(x*0.125))\n",
        "  else:\n",
        "    fs2+=(4*x*0.125*math.atan(x*0.125))\n",
        "fs2*=(0.125/3)\n",
        "fs2"
      ],
      "metadata": {
        "colab": {
          "base_uri": "https://localhost:8080/"
        },
        "id": "wbDVu476us1b",
        "outputId": "4f8d89fb-5d52-4320-9a3a-dda34cb1879c"
      },
      "execution_count": null,
      "outputs": [
        {
          "output_type": "execute_result",
          "data": {
            "text/plain": [
              "0.2853968148693935"
            ]
          },
          "metadata": {},
          "execution_count": 6
        }
      ]
    },
    {
      "cell_type": "markdown",
      "source": [
        "Погрешность"
      ],
      "metadata": {
        "id": "JGqtfAEbu5iz"
      }
    },
    {
      "cell_type": "code",
      "source": [
        "abs(fs-fs2)/15"
      ],
      "metadata": {
        "colab": {
          "base_uri": "https://localhost:8080/"
        },
        "id": "G7htY7bDu-cL",
        "outputId": "a1e91495-5900-413c-b6f7-c169281147fe"
      },
      "execution_count": null,
      "outputs": [
        {
          "output_type": "execute_result",
          "data": {
            "text/plain": [
              "8.425841529676367e-08"
            ]
          },
          "metadata": {},
          "execution_count": 7
        }
      ]
    },
    {
      "cell_type": "markdown",
      "source": [
        "## Значение интеграла с помощью python\n"
      ],
      "metadata": {
        "id": "NZctPcRcvDAZ"
      }
    },
    {
      "cell_type": "code",
      "source": [
        "x=sm.Symbol(\"x\")\n",
        "f = x * sm.atan(x)\n",
        "f"
      ],
      "metadata": {
        "colab": {
          "base_uri": "https://localhost:8080/",
          "height": 38
        },
        "id": "_08D3r3svI4W",
        "outputId": "99ef2296-bbb8-4079-9d46-d4f2033a3bbd"
      },
      "execution_count": null,
      "outputs": [
        {
          "output_type": "execute_result",
          "data": {
            "text/plain": [
              "x*atan(x)"
            ],
            "text/latex": "$\\displaystyle x \\operatorname{atan}{\\left(x \\right)}$"
          },
          "metadata": {},
          "execution_count": 8
        }
      ]
    },
    {
      "cell_type": "code",
      "source": [
        "inte=sm.integrate(f,(x,0,1))\n",
        "inte"
      ],
      "metadata": {
        "colab": {
          "base_uri": "https://localhost:8080/",
          "height": 51
        },
        "id": "DZKqLkFcvY7w",
        "outputId": "0d2ee093-840b-4c52-9ddb-08d0eb2213c0"
      },
      "execution_count": null,
      "outputs": [
        {
          "output_type": "execute_result",
          "data": {
            "text/plain": [
              "-1/2 + pi/4"
            ],
            "text/latex": "$\\displaystyle - \\frac{1}{2} + \\frac{\\pi}{4}$"
          },
          "metadata": {},
          "execution_count": 9
        }
      ]
    },
    {
      "cell_type": "code",
      "source": [
        "sm.N(inte)"
      ],
      "metadata": {
        "colab": {
          "base_uri": "https://localhost:8080/",
          "height": 37
        },
        "id": "rS9qLywKvcmI",
        "outputId": "9a2efaf3-d2ac-42dd-bb36-c92cec5d8c3c"
      },
      "execution_count": null,
      "outputs": [
        {
          "output_type": "execute_result",
          "data": {
            "text/plain": [
              "0.285398163397448"
            ],
            "text/latex": "$\\displaystyle 0.285398163397448$"
          },
          "metadata": {},
          "execution_count": 10
        }
      ]
    },
    {
      "cell_type": "markdown",
      "source": [
        "## Формула Ньютона-Лейбница"
      ],
      "metadata": {
        "id": "KWexJs_fvjWp"
      }
    },
    {
      "cell_type": "markdown",
      "source": [
        "$$\\int_{0}^{1} {x * arctg(x)} dx = \\left. \\frac{arctg(x)}{2x^2}-\\frac{1}{4x^2}+\\frac{arctg(x)}{2} \\right|_{0}^{1} =$$\n",
        "$$ = \\frac{arctg(1)}{2^2}-\\frac{1}{4^2}+\\frac{arctg(1)}{2}-\\frac{arctg(0)}{0^2}+\\frac{1}{0^2}-\\frac{arctg(0)}{2} = \\frac{pi}{4} -0.5 $$"
      ],
      "metadata": {
        "id": "FT1-1KAHvlEe"
      }
    },
    {
      "cell_type": "markdown",
      "source": [
        "## Результаты"
      ],
      "metadata": {
        "id": "u1Bu-BqIvvZI"
      }
    },
    {
      "cell_type": "code",
      "source": [
        "print(\"Формула трапеций:\",ft)\n",
        "print(\"Формула Симсона:\",fs)\n",
        "print(\"Питон:\", sm.N(inte))\n",
        "print(\"По Ньютона-Лейбница\", sm.N(inte))"
      ],
      "metadata": {
        "colab": {
          "base_uri": "https://localhost:8080/"
        },
        "id": "_l8Fnkj8vywk",
        "outputId": "4d0b1d30-bd73-45b3-e3d4-495fe15dee12"
      },
      "execution_count": null,
      "outputs": [
        {
          "output_type": "stream",
          "name": "stdout",
          "text": [
            "Формула трапеций: 0.28581660846560053\n",
            "Формула Симсона: 0.28539807874562295\n",
            "Питон: 0.285398163397448\n",
            "По Ньютона-Лейбница 0.285398163397448\n"
          ]
        }
      ]
    },
    {
      "cell_type": "markdown",
      "source": [
        "##Задание 2\n"
      ],
      "metadata": {
        "id": "lDZPyANfhvOJ"
      }
    },
    {
      "cell_type": "markdown",
      "source": [
        "$$xy'+y=y^{3}e^{-x}$$\n",
        "$$y(1)=1$$\n",
        "$$a = 1$$\n",
        "$$b = 2$$"
      ],
      "metadata": {
        "id": "aUl62x177ZlW"
      }
    },
    {
      "cell_type": "markdown",
      "source": [
        "##Метод Рунге-Кутта\n",
        "\n",
        "\n",
        ">"
      ],
      "metadata": {
        "id": "EO_oagN_jMeG"
      }
    },
    {
      "cell_type": "code",
      "source": [
        "def f(x, y):\n",
        "    return ((y **3) * math.exp(-x) - y )/ x"
      ],
      "metadata": {
        "id": "IJmlTTCDkSJ_"
      },
      "execution_count": null,
      "outputs": []
    },
    {
      "cell_type": "code",
      "source": [
        "def runge_kutte_step(x0, y0, h, b, epsilon):\n",
        "    temp_h = h\n",
        "    while True:\n",
        "        y2 = y0 + temp_h * (f(x0 + temp_h, y0 + temp_h * f(x0, y0)))\n",
        "        y2_tilde = y0 + temp_h * (f(x0 + 2*temp_h, y0 + 2*temp_h * f(x0, y0)))\n",
        "        if abs(y2 - y2_tilde) / 15 > epsilon:\n",
        "            return temp_h\n",
        "        temp_h *= 2\n",
        "x0 = 1\n",
        "y0 = 1\n",
        "h0 = 0.1\n",
        "b = 2\n",
        "epsilon = 1e-4\n",
        "n = 16\n",
        "\n",
        "h = runge_kutte_step(x0, y0, h0, b, epsilon)\n",
        "print(\"Шаг интегрирования h для метода Рунге-Кутта:\", h)"
      ],
      "metadata": {
        "colab": {
          "base_uri": "https://localhost:8080/"
        },
        "id": "Qp9dSi1zjJiw",
        "outputId": "4484095c-44e9-4ffd-b9d6-bcb1a6f5ba24"
      },
      "execution_count": null,
      "outputs": [
        {
          "output_type": "stream",
          "name": "stdout",
          "text": [
            "Шаг интегрирования h для метода Рунге-Кутта: 0.1\n"
          ]
        }
      ]
    },
    {
      "cell_type": "markdown",
      "source": [
        "\n",
        "$$y_{k+1} = y_k + \\frac{h}{6}(F_1 + 2F_2 + 2F_3 + F_4)$$\n",
        "\n",
        "$$F_1 = f(x_k, y_k)$$\n",
        "\n",
        "\n",
        "$$F_2 = f\\left(x_k + \\frac{h}{2}, y_k + \\frac{h}{2}F_1\\right)$$\n",
        "\n",
        "$$F_3 = f\\left(x_k + \\frac{h}{2}, y_k + \\frac{h}{2}F_2\\right)$$\n",
        "\n",
        "$$F_4 = f\\left(x_{k+1}, y_k + hF_3\\right)$$\n",
        "\n"
      ],
      "metadata": {
        "id": "eMlXaFxa7lwy"
      }
    },
    {
      "cell_type": "code",
      "source": [
        "def runge_kutte_iteration(X, Y, k, h):\n",
        "  F1 = f(X[k], Y[k])\n",
        "  F2 = f(X[k]+h/2, Y[k]+h/2*F1)\n",
        "  F3 = f(X[k]+h/2, Y[k]+h/2*F2)\n",
        "  F4 = f(X[k]+h, Y[k]+h*F3)\n",
        "  y = (Y[k]+h/6*(F1+2*F2+2*F3+F4))\n",
        "  return y\n",
        "\n",
        "def runge_kutte(a, b, y0, h):\n",
        "  double_h = h*2\n",
        "  n = abs(b-a)/h\n",
        "  X = []\n",
        "  Y = []\n",
        "  Y_tilda = []\n",
        "  delta = []\n",
        "  Y.append(y0)\n",
        "  Y_tilda.append(y0)\n",
        "  X.append(1)\n",
        "  delta.append(0)\n",
        "  i = a+h\n",
        "  k=0\n",
        "  while (n):\n",
        "    i = round(i, 1)\n",
        "    X.append(i)\n",
        "    Y.append(runge_kutte_iteration(X, Y, k, h))\n",
        "    if ((k+1)%2==0):\n",
        "      Y_tilda.append(runge_kutte_iteration(X, Y, k, double_h))\n",
        "      delta.append(abs(Y_tilda[k+1]-Y[k+1]))\n",
        "    else:\n",
        "      Y_tilda.append(None)\n",
        "      delta.append(None)\n",
        "    k+=1\n",
        "    i+=h\n",
        "    n-=1\n",
        "  return X, Y, Y_tilda, delta\n",
        "\n",
        "X, Y_runge, Y_tilda, delta = runge_kutte(1, 2, 1, 0.1)\n",
        "runge_table = PrettyTable()\n",
        "\n",
        "runge_table.add_column('x', X)\n",
        "runge_table.add_column('y', Y_runge)\n",
        "runge_table.add_column('y_tilda', Y_tilda)\n",
        "runge_table.add_column('delta', delta)\n",
        "\n",
        "print(runge_table)"
      ],
      "metadata": {
        "colab": {
          "base_uri": "https://localhost:8080/"
        },
        "id": "-vOjwbF_ke6T",
        "outputId": "71b83fd3-b4f7-41f7-cec4-56d01b8c8194"
      },
      "execution_count": null,
      "outputs": [
        {
          "output_type": "stream",
          "name": "stdout",
          "text": [
            "+-----+--------------------+--------------------+----------------------+\n",
            "|  x  |         y          |      y_tilda       |        delta         |\n",
            "+-----+--------------------+--------------------+----------------------+\n",
            "|  1  |         1          |         1          |          0           |\n",
            "| 1.1 | 0.9381066694643163 |        None        |         None         |\n",
            "| 1.2 | 0.8797844341275228 | 0.8258036055558501 | 0.053980828571672745 |\n",
            "| 1.3 | 0.8258001693500862 |        None        |         None         |\n",
            "| 1.4 | 0.7763478561491267 | 0.7313006582275807 | 0.04504719792154599  |\n",
            "| 1.5 | 0.7312993519872588 |        None        |         None         |\n",
            "| 1.6 | 0.6903639285268436 | 0.6531838470309056 | 0.03718008149593799  |\n",
            "| 1.7 | 0.6531833314135147 |        None        |         None         |\n",
            "| 1.8 | 0.6193852870197913 | 0.5886119040942844 | 0.03077338292550691  |\n",
            "| 1.9 | 0.5886116935452553 |        None        |         None         |\n",
            "| 2.0 | 0.5605320015274873 | 0.5348483310847499 | 0.02568367044273734  |\n",
            "+-----+--------------------+--------------------+----------------------+\n"
          ]
        }
      ]
    },
    {
      "cell_type": "markdown",
      "source": [
        "##Метод Эйлера\n",
        "\n",
        "\n",
        ">"
      ],
      "metadata": {
        "id": "mNEPMFOGkiS3"
      }
    },
    {
      "cell_type": "markdown",
      "source": [
        "$$ y_{k+1} = y_k + h f(x_k, y_k) $$\n"
      ],
      "metadata": {
        "id": "A_xAH1ht7tBU"
      }
    },
    {
      "cell_type": "code",
      "source": [
        "def euler_method(a, b, y0, h):\n",
        "  double_h = h*2\n",
        "  n = abs(b-a)/h\n",
        "  X = []\n",
        "  Y = []\n",
        "  Y_tilda = []\n",
        "  delta = []\n",
        "  Y.append(y0)\n",
        "  Y_tilda.append(y0)\n",
        "  X.append(1)\n",
        "  delta.append(0)\n",
        "  i = a+h\n",
        "  k=0\n",
        "  while (n):\n",
        "    i = round(i, 1)\n",
        "    X.append(i)\n",
        "    Y.append(Y[k]+h*f(X[k], Y[k]))\n",
        "    if ((k+1)%2==0):\n",
        "      Y_tilda.append(Y_tilda[k-1]+double_h*f(X[k-1], Y[k-1]))\n",
        "      delta.append(abs(Y_tilda[k+1]-Y[k+1]))\n",
        "    else:\n",
        "      Y_tilda.append(None)\n",
        "      delta.append(None)\n",
        "    k+=1\n",
        "    i+=h\n",
        "    n-=1\n",
        "  return X, Y, Y_tilda, delta\n",
        "\n",
        "X, Y_eu, Y_tilda_eu, delta = euler_method(1, 2, 1, 0.1)\n",
        "\n",
        "euler_table = PrettyTable()\n",
        "\n",
        "euler_table.add_column('x', X)\n",
        "euler_table.add_column('y', Y_eu)\n",
        "euler_table.add_column('y_tilda', Y_tilda_eu)\n",
        "euler_table.add_column('delta', delta)\n",
        "\n",
        "print(euler_table)"
      ],
      "metadata": {
        "colab": {
          "base_uri": "https://localhost:8080/"
        },
        "id": "dPHToyLWkkqG",
        "outputId": "aa624d5c-a422-4256-ce78-f5b0432d1eb4"
      },
      "execution_count": null,
      "outputs": [
        {
          "output_type": "stream",
          "name": "stdout",
          "text": [
            "+-----+--------------------+--------------------+----------------------+\n",
            "|  x  |         y          |      y_tilda       |        delta         |\n",
            "+-----+--------------------+--------------------+----------------------+\n",
            "|  1  |         1          |         1          |          0           |\n",
            "| 1.1 | 0.9367879441171443 |        None        |         None         |\n",
            "| 1.2 | 0.8765029340357132 | 0.8735758882342884 | 0.002927045801424777 |\n",
            "| 1.3 | 0.8203625325381864 |        None        |         None         |\n",
            "| 1.4 | 0.7688319300708197 | 0.7612950852392348 | 0.007536844831584899 |\n",
            "| 1.5 | 0.7219202270202486 |        None        |         None         |\n",
            "| 1.6 | 0.6793889456578024 | 0.6674716791380925 | 0.011917266519709924 |\n",
            "| 1.7 | 0.6408841203778035 |        None        |         None         |\n",
            "| 1.8 | 0.606013768161992  | 0.5904620285780948 | 0.015551739583897217 |\n",
            "| 1.9 | 0.5743901672150065 |        None        |         None         |\n",
            "| 2.0 | 0.5456508964082228 | 0.5272148266841236 | 0.01843606972409928  |\n",
            "+-----+--------------------+--------------------+----------------------+\n"
          ]
        }
      ]
    },
    {
      "cell_type": "markdown",
      "source": [
        "##Python\n",
        "\n",
        "\n",
        ">"
      ],
      "metadata": {
        "id": "Ys4yHUFJkwWO"
      }
    },
    {
      "cell_type": "code",
      "source": [
        "def dydx(y, x):\n",
        "  return ((y **3) * math.exp(-x) - y )/ x\n",
        "y0 = 1\n",
        "x = np.linspace(1, 2, 11)\n",
        "Y_py = odeint(dydx, y0, x)\n",
        "\n",
        "print(Y_py)"
      ],
      "metadata": {
        "colab": {
          "base_uri": "https://localhost:8080/"
        },
        "id": "H3_tbioGkzHz",
        "outputId": "0b4be86b-51a1-4243-c760-b0b5e811193c"
      },
      "execution_count": null,
      "outputs": [
        {
          "output_type": "stream",
          "name": "stdout",
          "text": [
            "[[1.        ]\n",
            " [0.93810639]\n",
            " [0.87978403]\n",
            " [0.82579965]\n",
            " [0.77634729]\n",
            " [0.73129878]\n",
            " [0.69036337]\n",
            " [0.65318279]\n",
            " [0.61938476]\n",
            " [0.58861118]\n",
            " [0.5605315 ]]\n"
          ]
        }
      ]
    },
    {
      "cell_type": "code",
      "source": [
        "final_table = PrettyTable()\n",
        "\n",
        "final_table.add_column('x', X)\n",
        "final_table.add_column('Эйлер', Y_eu)\n",
        "final_table.add_column('Рунге-Кутт', Y_runge)\n",
        "final_table.add_column('Питон', Y_py)\n",
        "\n",
        "print(final_table)"
      ],
      "metadata": {
        "colab": {
          "base_uri": "https://localhost:8080/"
        },
        "id": "wBVcAtUgk28W",
        "outputId": "53b578d7-769e-4845-9912-45daaa1d1d26"
      },
      "execution_count": null,
      "outputs": [
        {
          "output_type": "stream",
          "name": "stdout",
          "text": [
            "+-----+--------------------+--------------------+--------------+\n",
            "|  x  |       Эйлер        |     Рунге-Кутт     |    Питон     |\n",
            "+-----+--------------------+--------------------+--------------+\n",
            "|  1  |         1          |         1          |     [1.]     |\n",
            "| 1.1 | 0.9367879441171443 | 0.9381066694643163 | [0.93810639] |\n",
            "| 1.2 | 0.8765029340357132 | 0.8797844341275228 | [0.87978403] |\n",
            "| 1.3 | 0.8203625325381864 | 0.8258001693500862 | [0.82579965] |\n",
            "| 1.4 | 0.7688319300708197 | 0.7763478561491267 | [0.77634729] |\n",
            "| 1.5 | 0.7219202270202486 | 0.7312993519872588 | [0.73129878] |\n",
            "| 1.6 | 0.6793889456578024 | 0.6903639285268436 | [0.69036337] |\n",
            "| 1.7 | 0.6408841203778035 | 0.6531833314135147 | [0.65318279] |\n",
            "| 1.8 | 0.606013768161992  | 0.6193852870197913 | [0.61938476] |\n",
            "| 1.9 | 0.5743901672150065 | 0.5886116935452553 | [0.58861118] |\n",
            "| 2.0 | 0.5456508964082228 | 0.5605320015274873 | [0.5605315]  |\n",
            "+-----+--------------------+--------------------+--------------+\n"
          ]
        }
      ]
    },
    {
      "cell_type": "code",
      "source": [
        "plt.plot(X, Y_runge, label='Рунге-Кутт', color='blue')\n",
        "plt.scatter(X, Y_runge, color='blue')\n",
        "plt.plot(X, Y_eu, label='Метод Эйлера', color='orange')\n",
        "plt.scatter(X, Y_eu, color='orange')\n",
        "plt.plot(X, Y_py, label='Питон', color='red')\n",
        "\n",
        "plt.xlabel('x')\n",
        "plt.ylabel('y')\n",
        "plt.legend()\n",
        "plt.grid()\n",
        "plt.show()"
      ],
      "metadata": {
        "colab": {
          "base_uri": "https://localhost:8080/",
          "height": 449
        },
        "id": "doVNMhqrk6MN",
        "outputId": "db8e5d18-2fe6-4c2c-b34d-0d47b67274f9"
      },
      "execution_count": null,
      "outputs": [
        {
          "output_type": "display_data",
          "data": {
            "text/plain": [
              "<Figure size 640x480 with 1 Axes>"
            ],
            "image/png": "[encoded data removed]"
          },
          "metadata": {}
        }
      ]
    }
  ]
}