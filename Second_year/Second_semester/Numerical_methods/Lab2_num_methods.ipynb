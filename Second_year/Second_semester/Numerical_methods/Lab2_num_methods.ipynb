{
  "nbformat": 4,
  "nbformat_minor": 0,
  "metadata": {
    "colab": {
      "provenance": []
    },
    "kernelspec": {
      "name": "python3",
      "display_name": "Python 3"
    },
    "language_info": {
      "name": "python"
    }
  },
  "cells": [
    {
      "cell_type": "markdown",
      "source": [
        "##Лабораторная работа №2\n",
        " Нормы векторов и матриц,\n",
        "решение переопределенной системы линейных уравнений. Балагур Дмитрий 6204 вторая подгруппа."
      ],
      "metadata": {
        "id": "X18caz9dEb7V"
      }
    },
    {
      "cell_type": "code",
      "source": [
        "import math\n",
        "import numpy as np\n",
        "import scipy as sp\n",
        "import pandas as pd\n",
        "import matplotlib.pyplot as plt\n",
        "from prettytable import PrettyTable"
      ],
      "metadata": {
        "id": "hhKK_r3nE-ja"
      },
      "execution_count": null,
      "outputs": []
    },
    {
      "cell_type": "markdown",
      "source": [
        "##Задание №1\n",
        "\n",
        "Создать квадратную матрицу из случайных целых чисел из\n",
        "[-5,2] размера 11. Найти и вычислить минор 5 порядка,\n",
        "расположенный на пересечении 1,2,3,6,7 строк и 7,8,9,\n",
        "10,11 столбцов. Использовать срезы матрицы."
      ],
      "metadata": {
        "id": "iOkFOB6WF680"
      }
    },
    {
      "cell_type": "code",
      "source": [
        "# Создаем квадратную матрицу размером 11x11 из случайных целых чисел в диапазоне [-5, 2]\n",
        "matrix = np.random.randint(-5, 3, (11, 11))\n",
        "\n",
        "# Выбираем подматрицу для вычисления минора 5 порядка\n",
        "minor_matrix = matrix[[0, 1, 2, 5, 6]][:, [6, 7, 8, 9, 10]]\n",
        "\n",
        "# Вычисляем определитель минора\n",
        "determinant = np.linalg.det(minor_matrix)\n",
        "\n",
        "print(\"Исходная матрица:\")\n",
        "print(matrix)\n",
        "print(\"\\nМинор 5 порядка:\")\n",
        "print(minor_matrix)\n",
        "print(\"\\nОпределитель минора:\")\n",
        "print(determinant)"
      ],
      "metadata": {
        "colab": {
          "base_uri": "https://localhost:8080/"
        },
        "id": "EMrXphaPGHuN",
        "outputId": "29e5a665-17a4-4819-b133-8cb216f6d392"
      },
      "execution_count": null,
      "outputs": [
        {
          "output_type": "stream",
          "name": "stdout",
          "text": [
            "Исходная матрица:\n",
            "[[ 0 -3 -4  0 -4  2  0  2  0  1 -1]\n",
            " [ 2  2 -5  2 -3 -2  0 -4 -5  2  1]\n",
            " [-3 -3  1  2 -4 -2  0  1 -5 -3  2]\n",
            " [-5 -5  0 -4  0 -2 -4  1 -2  2 -2]\n",
            " [-4 -5 -2 -1  0  0 -2  1  0 -1 -3]\n",
            " [-3 -5 -4  0 -2  2 -1  2 -3 -3  1]\n",
            " [ 2 -4 -3 -1 -3 -1 -3 -2 -5 -2 -3]\n",
            " [ 0 -1 -4 -2 -1  0 -5 -4 -3 -2 -5]\n",
            " [-4  2 -5  2 -3  2 -5  1 -3 -3 -4]\n",
            " [ 1 -2 -1  1 -1  1 -3 -3  1 -4 -1]\n",
            " [ 2  2  1 -1 -1  1  0 -5  0  1 -5]]\n",
            "\n",
            "Минор 5 порядка:\n",
            "[[ 0  2  0  1 -1]\n",
            " [ 0 -4 -5  2  1]\n",
            " [ 0  1 -5 -3  2]\n",
            " [-1  2 -3 -3  1]\n",
            " [-3 -2 -5 -2 -3]]\n",
            "\n",
            "Определитель минора:\n",
            "-312.9999999999999\n"
          ]
        }
      ]
    },
    {
      "cell_type": "markdown",
      "source": [
        "##Задание №2\n",
        "\n",
        "Создать вектор-строку 1x8 из случайных целых чисел.\n",
        "Вычислить норму самостоятельно написанной\n",
        "функцией и проверить результат с помощью linalg.norm() в\n",
        "Python."
      ],
      "metadata": {
        "id": "xJ05LS5VM7oK"
      }
    },
    {
      "cell_type": "code",
      "source": [
        "# Создаем вектор-строку 1x8 из случайных целых чисел\n",
        "vector = np.random.randint(-10, 10, 8)\n",
        "print(\"Вектор-строка:\")\n",
        "print(vector)\n",
        "\n",
        "def infinity_norm(vector):\n",
        "    return max(abs(vector))\n",
        "\n",
        "# Вычисляем бесконечную норму вектора с помощью самописной функции\n",
        "norm_def = infinity_norm(vector)\n",
        "\n",
        "# Вычисляем бесконечную норму вектора с помощью np.linalg.norm()\n",
        "norm_np = np.linalg.norm(vector, ord=np.inf)\n",
        "\n",
        "print(\"\\nБесконечная норма (самостоятельно):\", norm_def)\n",
        "print(\"Бесконечная норма (numpy):\", norm_np)\n"
      ],
      "metadata": {
        "colab": {
          "base_uri": "https://localhost:8080/"
        },
        "id": "phZhFAdpNL2h",
        "outputId": "e878400f-fb3d-4d20-cfcb-34147f9c9715"
      },
      "execution_count": null,
      "outputs": [
        {
          "output_type": "stream",
          "name": "stdout",
          "text": [
            "Вектор-строка:\n",
            "[ -4 -10   0  -8   9  -5  -7   3]\n",
            "\n",
            "Бесконечная норма (самостоятельно): 10\n",
            "Бесконечная норма (numpy): 10.0\n"
          ]
        }
      ]
    },
    {
      "cell_type": "markdown",
      "source": [
        "##Задание №3\n",
        "\n",
        "Создать матрицу из случайных целых чисел. Найти\n",
        "фробениусову норму матрицы с помощью самостоятельно\n",
        "написанного алгоритма, проверить результат с помощью\n",
        "linalg.norm() в Python."
      ],
      "metadata": {
        "id": "ts08TT00N8K6"
      }
    },
    {
      "cell_type": "code",
      "source": [
        "# Создаем матрицу 3x3 из случайных целых чисел\n",
        "matrix = np.random.randint(-10, 10, (3, 3))\n",
        "print(\"Матрица:\")\n",
        "print(matrix)\n",
        "\n",
        "def frobenius_norm(matrix):\n",
        "    return np.sqrt(np.sum(matrix**2))\n",
        "\n",
        "# Вычисляем Фробениусову норму матрицы с помощью самописной функции\n",
        "norm_custom = frobenius_norm(matrix)\n",
        "\n",
        "# Вычисляем Фробениусову норму матрицы с помощью np.linalg.norm()\n",
        "norm_np = np.linalg.norm(matrix)\n",
        "\n",
        "print(\"\\nФробениусова норма (самостоятельно):\", norm_custom)\n",
        "print(\"Фробениусова норма (numpy):\", norm_np)"
      ],
      "metadata": {
        "colab": {
          "base_uri": "https://localhost:8080/"
        },
        "id": "WmPxFizHN8je",
        "outputId": "ffeb01f8-1cd2-4964-aa96-fbbad77a5223"
      },
      "execution_count": null,
      "outputs": [
        {
          "output_type": "stream",
          "name": "stdout",
          "text": [
            "Матрица:\n",
            "[[-3 -1 -2]\n",
            " [-5  1  9]\n",
            " [ 1  0 -3]]\n",
            "\n",
            "Фробениусова норма (самостоятельно): 11.445523142259598\n",
            "Фробениусова норма (numpy): 11.445523142259598\n"
          ]
        }
      ]
    },
    {
      "cell_type": "markdown",
      "source": [
        "Задание №4\n",
        "\n",
        "Найти псевдорешение системы\n",
        "\n",
        "$\\begin{equation*}\n",
        " \\begin{cases}\n",
        "   5.7x_{1}-7.8x_{2}-5.6x_{3}=2.7,\n",
        "   \\\\\n",
        "   6.6x_{1}+13.1x_{2}-6.3x_{3}=-5.5,\n",
        "   \\\\\n",
        "   14.7x_{1}-2.8x_{2}+5.6x_{3}=8.6\n",
        "   \\\\\n",
        "   8.5x_{1}+12.7x_{2}-23.7x_{3}=14.7\n",
        " \\end{cases}\n",
        "\\end{equation*}$\n"
      ],
      "metadata": {
        "id": "Hx-OgITjN82q"
      }
    },
    {
      "cell_type": "code",
      "source": [
        "A = np.array([[5.7,-7.8,-5.6],\n",
        "              [6.6,13.1,-6.3],\n",
        "              [14.7,-2.8,5.6],\n",
        "              [8.5,12.7,-23.7]])\n",
        "\n",
        "b = np.array([2.7,\n",
        "              -5.5,\n",
        "              8.6,\n",
        "              14.7])\n",
        "\n",
        "AT = np.transpose(A)\n",
        "\n",
        "a1 = np.matmul(np.linalg.inv(np.dot(AT, A)), AT)\n",
        "result = a1.dot(b)\n",
        "print(\"Псевдорешение системы: \")\n",
        "print(result)\n",
        "x_pseudo = np.linalg.lstsq(A, b)[0]\n",
        "print(\"\\nПсевдорешение системы:\")\n",
        "print(x_pseudo)\n",
        "print(\"\\n\")\n"
      ],
      "metadata": {
        "colab": {
          "base_uri": "https://localhost:8080/"
        },
        "id": "207PAhNON9Gt",
        "outputId": "6de6adee-1719-4cc4-8047-f133a0566eda"
      },
      "execution_count": null,
      "outputs": [
        {
          "output_type": "stream",
          "name": "stdout",
          "text": [
            "Псевдорешение системы: \n",
            "[ 0.49035154 -0.3954887  -0.49216643]\n",
            "\n",
            "Псевдорешение системы:\n",
            "[ 0.49035154 -0.3954887  -0.49216643]\n",
            "\n",
            "\n"
          ]
        },
        {
          "output_type": "stream",
          "name": "stderr",
          "text": [
            "<ipython-input-17-d2b0eb19a1f6>:17: FutureWarning: `rcond` parameter will change to the default of machine precision times ``max(M, N)`` where M and N are the input matrix dimensions.\n",
            "To use the future default and silence this warning we advise to pass `rcond=None`, to keep using the old, explicitly pass `rcond=-1`.\n",
            "  x_pseudo = np.linalg.lstsq(A, b)[0]\n"
          ]
        }
      ]
    },
    {
      "cell_type": "markdown",
      "source": [
        "##Задание №5\n",
        "\n",
        "Даны пять точек (30; 17), (40; 22), (50; 40), (60, 37), (70, 29).\n",
        "Найти уравнение наиболее выгодной траектории.\n",
        "Построить график."
      ],
      "metadata": {
        "id": "ZGU3S_bzN9XR"
      }
    },
    {
      "cell_type": "code",
      "source": [
        "A = np.array([[30, 1], [40, 1], [50, 1], [60, 1], [70, 1]])\n",
        "B = np.array([17, 22, 40, 37, 29])\n",
        "AT = np.transpose(A)\n",
        "\n",
        "a1 = np.matmul(np.linalg.inv(np.dot(AT, A)), AT)\n",
        "result = a1.dot(B)\n",
        "print(result)\n",
        "\n",
        "x = np.linspace(0, 70, 200)\n",
        "y = result[0]*x + result[1]\n",
        "\n",
        "# Построение графика\n",
        "plt.plot(x, y, label='График по данным пяти точкам', color='blue')\n",
        "plt.plot([30, 40, 50, 60, 70],[17, 22, 40, 37, 29],'ro')\n",
        "plt.xlabel('x')\n",
        "plt.ylabel('y')\n",
        "plt.title('График наиболее выгодной траектории')\n",
        "plt.grid(True)\n",
        "plt.legend()\n",
        "plt.show()"
      ],
      "metadata": {
        "colab": {
          "base_uri": "https://localhost:8080/",
          "height": 490
        },
        "id": "PJJ89j6COve1",
        "outputId": "d6f185aa-d71e-4b4a-db8e-d8378be327a6"
      },
      "execution_count": null,
      "outputs": [
        {
          "output_type": "stream",
          "name": "stdout",
          "text": [
            "[0.39 9.5 ]\n"
          ]
        },
        {
          "output_type": "display_data",
          "data": {
            "text/plain": [
              "<Figure size 640x480 with 1 Axes>"
            ],
            "image/png": "[encoded data removed]"
          },
          "metadata": {}
        }
      ]
    },
    {
      "cell_type": "markdown",
      "source": [
        "##Задание №6\n",
        "\n",
        "Решить систему, используя LU разложение матрицы. LU\n",
        "разложение должно быть найдено самостоятельно\n",
        "написанной функцией, полученные матрицы выведены на\n",
        "экран. Придерживаться плана решения, приведенного в\n",
        "пособии!Решение системы должно быть проверено встроенной\n",
        "функцией Python\n",
        "\n",
        "$\\begin{equation*}\n",
        " \\begin{cases}\n",
        "   5.7x_{1}-7.8x_{2}-5.6x_{3}-8.3x_{4}=2.7,\n",
        "   \\\\\n",
        "   6.6x_{1}+13.1x_{2}-6.3x_{3}+4.3x_{4}=-5.5,\n",
        "   \\\\\n",
        "   14.7x_{1}-2.8x_{2}+5.6x_{3}-12.1x_{4}=8.6\n",
        "   \\\\\n",
        "   8.5x_{1}+12.7x_{2}-23.7x_{3}-5.7x_{4}=14.7\n",
        " \\end{cases}\n",
        "\\end{equation*}$"
      ],
      "metadata": {
        "id": "914dd00SOv6w"
      }
    },
    {
      "cell_type": "code",
      "source": [
        "A = np.array([[5.7, -7.8, -5.6, -8.3],\n",
        "              [6.6, 13.1, -6.3, 4.3],\n",
        "              [14.7, -2.8, 5.6, -12.1],\n",
        "               [8.5, 12.7, -23.7, 5.7]])\n",
        "\n",
        "b = np.array([2.7, -5.5, 8.6, 14.7])\n",
        "\n",
        "# Нахождение LU разложени матрицы А самостоятельно написанной функцией\n",
        "def LU(matrix):\n",
        "    n = len(matrix)\n",
        "    U = np.zeros((n,n),float)  # из методички\n",
        "    L = np.identity(n,float)\n",
        "    for i in range(n):\n",
        "        for j in range(n):\n",
        "            if i<=j:\n",
        "                U[i,j] = A[i,j] - np.dot(L[i,:i],U[:i,j])\n",
        "            if i>j:\n",
        "                L[i,j] = (A[i,j] - np.dot(L[i,:j], U[:j,j]))/U[j,j]\n",
        "    return L, U\n",
        "\n",
        "# Решение системы Ly = b. Решить эту систему самостоятельно написанной функцией прямой подстановки.\n",
        "def forward(L, b):\n",
        "    n = len(b)\n",
        "    y = np.zeros(n)\n",
        "    for i in range(n):\n",
        "        y[i] = (b[i] - np.dot(L[i,:i], y[:i])) / L[i,i]\n",
        "    return y\n",
        "\n",
        "# Решение системы UX = y самостоятельно написанным методом обратной подстановки.\n",
        "def backward(U, y):\n",
        "    n = len(y)\n",
        "    x = np.zeros(n)\n",
        "    for i in range(n - 1, -1, -1):\n",
        "        x[i] = (y[i] - np.dot(U[i,i + 1:], x[i + 1:])) / U[i,i]\n",
        "    return x\n",
        "\n",
        "L, U = LU(A)\n",
        "print(L)\n",
        "print(U)\n",
        "y = forward(L, b)\n",
        "x_def = backward(U, y)\n",
        "print(x_def)\n",
        "x = np.linalg.solve(A, b)\n",
        "print(x)"
      ],
      "metadata": {
        "colab": {
          "base_uri": "https://localhost:8080/"
        },
        "id": "gr4rTXiAO4za",
        "outputId": "a3a154e6-3236-4be3-df69-490793a29e7d"
      },
      "execution_count": null,
      "outputs": [
        {
          "output_type": "stream",
          "name": "stdout",
          "text": [
            "[[ 1.          0.          0.          0.        ]\n",
            " [ 1.15789474  1.          0.          0.        ]\n",
            " [ 2.57894737  0.7824019   1.          0.        ]\n",
            " [ 1.49122807  1.09940547 -0.78156908  1.        ]]\n",
            "[[ 5.7        -7.8        -5.6        -8.3       ]\n",
            " [ 0.         22.13157895  0.18421053 13.91052632]\n",
            " [ 0.          0.         19.8979786  -1.5783591 ]\n",
            " [ 0.          0.          0.          1.55028759]]\n",
            "[ 11.94661496 -11.23450224   1.78820056  17.23022887]\n",
            "[ 11.94661496 -11.23450224   1.78820056  17.23022887]\n"
          ]
        }
      ]
    },
    {
      "cell_type": "markdown",
      "source": [
        "##Задание №7\n",
        "\n",
        " Решить систему из пункта 2 с помощью QR разложения\n",
        "матрицы А. QR разложение найти методом Гивенса.\n",
        "Придерживаться плана решения, приведенного в пособии!\n",
        "Проверить полученное решение непосредственной\n",
        "подстановкой в исходную систему, а также методом\n",
        "np.solve."
      ],
      "metadata": {
        "id": "S44vZyDcO5EP"
      }
    },
    {
      "cell_type": "code",
      "source": [
        "# Нахождение QR разложения матрицы А самостоятельно написанной функцией.\n",
        "def givens_rotation(A):  # из методички\n",
        "    (r, c) = np.shape(A)\n",
        "    Q = np.identity(r)\n",
        "    R = np.copy(A)\n",
        "    (rows, cols) = np.tril_indices(r, -1, c)\n",
        "    for (row, col) in zip(rows, cols):\n",
        "        if R[row, col] != 0:\n",
        "            r_ = np.hypot(R[col, col], R[row, col])\n",
        "            c = R[col, col]/r_\n",
        "            s = -R[row, col]/r_\n",
        "            G = np.identity(r)\n",
        "            G[[col, row], [col, row]] = c\n",
        "            G[row, col] = s\n",
        "            G[col, row] = -s\n",
        "            R = np.dot(G, R)\n",
        "            Q = np.dot(Q, G.T)\n",
        "    return Q, R\n",
        "\n",
        "# Решение системы Qy = b, домножением на матрицу QT.\n",
        "def Q_t(Q, b):\n",
        "    QT = np.transpose(Q)\n",
        "    new_b = np.dot(QT, b)\n",
        "    y = backward(np.dot(QT, Q), new_b)\n",
        "    return y\n",
        "\n",
        "# Решение системы RX = y самостоятельно написанным методом обратной подстановки.\n",
        "def my_backward_substitution(R, y):\n",
        "    n = len(y)\n",
        "    x = np.zeros(n)\n",
        "    for i in range(n - 1, -1, -1):\n",
        "        x[i] = (y[i] - np.dot(R[i,i+1:], x[i+1:])) / R[i,i]\n",
        "    return x\n",
        "Q, R = givens_rotation(A)\n",
        "print(Q)\n",
        "print(R)\n",
        "y = Q_t(Q, b)\n",
        "x_def = my_backward_substitution(R, y)\n",
        "print(x_def)\n",
        "x = np.linalg.solve(A, b)\n",
        "print(x)"
      ],
      "metadata": {
        "colab": {
          "base_uri": "https://localhost:8080/"
        },
        "id": "S3yRroa_Pw_k",
        "outputId": "3e7a038e-9450-4366-d1d2-18e38d001129"
      },
      "execution_count": null,
      "outputs": [
        {
          "output_type": "stream",
          "name": "stdout",
          "text": [
            "[[ 0.29860126 -0.49457444 -0.57198468 -0.58229455]\n",
            " [ 0.34574882  0.57930223  0.34429904 -0.65293556]\n",
            " [ 0.77007692 -0.37417999  0.42190654  0.29827125]\n",
            " [ 0.44528258  0.52895594 -0.61342202  0.38163133]]\n",
            "[[ 1.90890021e+01  5.69909310e+00 -1.00911509e+01 -7.77149059e+00]\n",
            " [ 6.11176967e-16  1.92119842e+01 -1.55116509e+01  1.41385942e+01]\n",
            " [ 4.35672895e-16  1.73684787e-16  1.79348087e+01 -2.37361593e+00]\n",
            " [-1.46828459e-16 -3.61828309e-17 -7.13638672e-16  5.91638316e-01]]\n",
            "[ 11.94661496 -11.23450224   1.78820056  17.23022887]\n",
            "[ 11.94661496 -11.23450224   1.78820056  17.23022887]\n"
          ]
        }
      ]
    },
    {
      "cell_type": "markdown",
      "source": [
        "##Задание №8\n",
        "\n",
        "Решить систему методом Зейделя с точностью до 10-3.\n",
        "Проверить выполнение достаточного условия сходимости.\n",
        "Если условие не выполняется, в программе выполнить\n",
        "эквивалентные преобразования системы, после этого\n",
        "привести к удобному для итераций виду. Оформить\n",
        "итерации в виде таблицы (можно пользоваться модулями\n",
        "PrettyTable или Pandas). Проверить полученное решение.\n",
        "\n",
        "$\\begin{equation*}\n",
        " \\begin{cases}\n",
        "   0.21x_{1}-0.18x_{2}+0.75x_{3}=0.11,\n",
        "   \\\\\n",
        "   0.13x_{1}+0.9x_{2}-0.11x_{3}=2,\n",
        "   \\\\\n",
        "   3.01x_{1}-0.33x_{2}+0.11x_{3}=0.13\n",
        " \\end{cases}\n",
        "\\end{equation*}$"
      ],
      "metadata": {
        "id": "LihFLBetQEqx"
      }
    },
    {
      "cell_type": "code",
      "source": [
        "A = np.array([[3.01, -0.33, 0.11],\n",
        "              [0.13/4, 0.9/4, -0.11/4],\n",
        "              [0.21, -0.18, 0.75]])\n",
        "\n",
        "b = np.array([0.13, 0.25, 0.11])\n",
        "\n",
        "\n",
        "# Проверка достаточного условия сходимости\n",
        "if np.all(np.max(b) < 1):\n",
        "    print(\"Достаточное условие сходимости выполняется.\")\n",
        "else:\n",
        "    print(\"Достаточное условие сходимости не выполняется.\")\n",
        "\n",
        "# Начальное приближение\n",
        "x = np.zeros_like(b)\n",
        "norm = []\n",
        "iterations = []\n",
        "epsilon = 10**(-3)\n",
        "\n",
        "# Итерации метода Зейделя\n",
        "while True:\n",
        "    x_new = np.copy(x)\n",
        "    for i in range(A.shape[0]):\n",
        "        x_new[i] = (b[i] - np.dot(A[i, :i], x_new[:i]) - np.dot(A[i, i + 1:], x[i + 1:])) / A[i, i]\n",
        "    iterations.append(x_new)\n",
        "    norm.append(np.linalg.norm(x_new - x))\n",
        "    if np.linalg.norm(x_new - x) < epsilon:\n",
        "        break\n",
        "    x = x_new\n",
        "\n",
        "# Вывод результатов в виде таблицы\n",
        "table = PrettyTable()\n",
        "table.field_names = [\"Итерация\", \"x1\", \"x2\", \"x3\", \"Norm\"]\n",
        "for idx, row in enumerate(iterations):\n",
        "    table.add_row([idx+1, *row, norm[idx]])\n",
        "print(table)\n",
        "print(\"Решение системы уравнений:\")\n",
        "print(x)\n",
        "x_d = np.linalg.solve(A, b)\n",
        "print(x_d)"
      ],
      "metadata": {
        "colab": {
          "base_uri": "https://localhost:8080/"
        },
        "id": "MLb5w1jgQE_4",
        "outputId": "09048f5b-c421-4298-b524-f2b45de89189"
      },
      "execution_count": null,
      "outputs": [
        {
          "output_type": "stream",
          "name": "stdout",
          "text": [
            "Достаточное условие сходимости выполняется.\n",
            "+----------+----------------------+--------------------+---------------------+-----------------------+\n",
            "| Итерация |          x1          |         x2         |          x3         |          Norm         |\n",
            "+----------+----------------------+--------------------+---------------------+-----------------------+\n",
            "|    1     | 0.043189368770764125 | 1.1048726467331118 | 0.39974307862679953 |   1.1757565292116732  |\n",
            "|    2     | 0.14971303480829867  | 1.1383433823598545 | 0.37794942868670817 |  0.11376530555130919  |\n",
            "|    3     | 0.15417902957581867  | 1.1350346259007573 |  0.3759048486016192 |  0.005922270366462168 |\n",
            "|    4     | 0.15389099441896076  | 1.1348263378574592 |  0.3759355093151479 | 0.0003567747747826274 |\n",
            "+----------+----------------------+--------------------+---------------------+-----------------------+\n",
            "Решение системы уравнений:\n",
            "[0.15417903 1.13503463 0.37590485]\n",
            "[0.15386762 1.1348345  0.37594401]\n"
          ]
        }
      ]
    }
  ]
}